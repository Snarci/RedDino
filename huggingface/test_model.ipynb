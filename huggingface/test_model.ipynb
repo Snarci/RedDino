{
 "cells": [
  {
   "cell_type": "code",
   "execution_count": null,
   "metadata": {},
   "outputs": [],
   "source": [
    "import timm\n",
    "import torch\n",
    "import torch.nn as nn"
   ]
  },
  {
   "cell_type": "code",
   "execution_count": null,
   "metadata": {},
   "outputs": [],
   "source": [
    "\n",
    "embed_sizes={\"dinov2_vits14\": 384,\n",
    "        \"dinov2_vitb14\": 768,\n",
    "        \"dinov2_vitl14\": 1024,\n",
    "        \"dinov2_vitg14\": 1536}\n",
    "\n",
    "PATH_MODEL = \"../models/RedDino_l.pth\"\n",
    "MODEL_NAME = \"dinov2_vitl14\"\n",
    "TIMM_NAME = \"Snarcy/RedDino-large\"\n",
    "\n",
    "def get_dino_torch(modelpath=\"/content/dinobloom-s.pth\",modelname=\"dinov2_vits14\"):\n",
    "    # load the original DINOv2 model with the correct architecture and parameters.\n",
    "    model=torch.hub.load('facebookresearch/dinov2', modelname)\n",
    "    # load finetuned weights\n",
    "    pretrained = torch.load(modelpath, map_location=torch.device('cpu'))\n",
    "    # make correct state dict for loading\n",
    "    new_state_dict = {}\n",
    "    for key, value in pretrained['teacher'].items():\n",
    "        if 'dino_head' in key or \"ibot_head\" in key:\n",
    "            pass\n",
    "        else:\n",
    "            new_key = key.replace('backbone.', '')\n",
    "            new_state_dict[new_key] = value\n",
    "\n",
    "    #corresponds to 224x224 image. patch size=14x14 => 16*16 patches\n",
    "    pos_embed = nn.Parameter(torch.zeros(1, 257, embed_sizes[modelname]))\n",
    "    model.pos_embed = pos_embed\n",
    "\n",
    "    model.load_state_dict(new_state_dict, strict=True)\n",
    "    return model\n",
    "\n",
    "model=get_dino_torch(PATH_MODEL,MODEL_NAME)\n",
    "\n"
   ]
  },
  {
   "cell_type": "code",
   "execution_count": null,
   "metadata": {},
   "outputs": [],
   "source": [
    "model_timm = timm.create_model('hf_hub:'+TIMM_NAME, pretrained=True)\n",
    "\n",
    "input_img = torch.randn(1, 3, 224, 224)\n",
    "output = model(input_img)\n",
    "output_timm = model_timm(input_img)\n",
    "\n",
    "print(output.shape)\n",
    "print(output_timm.shape)\n",
    "\n"
   ]
  },
  {
   "cell_type": "code",
   "execution_count": null,
   "metadata": {},
   "outputs": [],
   "source": [
    "#are the outputs the same?\n",
    "\n",
    "print(torch.allclose(output,output_timm,atol=1e-4))\n",
    "\n",
    "print(output[0,:10])\n",
    "print(output_timm[0,:10])"
   ]
  }
 ],
 "metadata": {
  "kernelspec": {
   "display_name": "Python 3",
   "language": "python",
   "name": "python3"
  },
  "language_info": {
   "codemirror_mode": {
    "name": "ipython",
    "version": 3
   },
   "file_extension": ".py",
   "mimetype": "text/x-python",
   "name": "python",
   "nbconvert_exporter": "python",
   "pygments_lexer": "ipython3",
   "version": "3.9.0"
  }
 },
 "nbformat": 4,
 "nbformat_minor": 2
}
