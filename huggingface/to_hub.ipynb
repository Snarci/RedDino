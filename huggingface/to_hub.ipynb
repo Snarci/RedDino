{
 "cells": [
  {
   "cell_type": "code",
   "execution_count": null,
   "metadata": {},
   "outputs": [],
   "source": [
    "import timm\n",
    "import torch\n",
    "import torch.nn as nn"
   ]
  },
  {
   "cell_type": "code",
   "execution_count": null,
   "metadata": {},
   "outputs": [],
   "source": [
    "\n",
    "embed_sizes={\"dinov2_vits14\": 384,\n",
    "        \"dinov2_vitb14\": 768,\n",
    "        \"dinov2_vitl14\": 1024,\n",
    "        \"dinov2_vitg14\": 1536}\n",
    "\n",
    "PATH_MODEL = \"../models/RedDino_l.pth\"\n",
    "MODEL_NAME = \"dinov2_vitl14\"\n",
    "TIMM_NAME = \"vit_large_patch14_dinov2\"\n",
    "\n",
    "def get_dino_torch(modelpath=\"/content/dinobloom-s.pth\",modelname=\"dinov2_vits14\"):\n",
    "    # load the original DINOv2 model with the correct architecture and parameters.\n",
    "    model=torch.hub.load('facebookresearch/dinov2', modelname)\n",
    "    # load finetuned weights\n",
    "    pretrained = torch.load(modelpath, map_location=torch.device('cpu'))\n",
    "    # make correct state dict for loading\n",
    "    new_state_dict = {}\n",
    "    for key, value in pretrained['teacher'].items():\n",
    "        if 'dino_head' in key or \"ibot_head\" in key:\n",
    "            pass\n",
    "        else:\n",
    "            new_key = key.replace('backbone.', '')\n",
    "            new_state_dict[new_key] = value\n",
    "\n",
    "    #corresponds to 224x224 image. patch size=14x14 => 16*16 patches\n",
    "    pos_embed = nn.Parameter(torch.zeros(1, 257, embed_sizes[modelname]))\n",
    "    model.pos_embed = pos_embed\n",
    "\n",
    "    model.load_state_dict(new_state_dict, strict=True)\n",
    "    return model\n",
    "\n",
    "model=get_dino_torch(PATH_MODEL,MODEL_NAME)\n",
    "\n"
   ]
  },
  {
   "cell_type": "code",
   "execution_count": null,
   "metadata": {},
   "outputs": [],
   "source": [
    "# do the same but now with timm models\n",
    "\n",
    "model_timm = timm.create_model(TIMM_NAME, pretrained=True)\n",
    "model_timm.head = nn.Identity()\n",
    "pos_embed = nn.Parameter(torch.zeros(1, 257, embed_sizes[MODEL_NAME]))\n",
    "model_timm.pos_embed = pos_embed\n",
    "new_state_dict = {}\n",
    "for key, value in model.state_dict().items():\n",
    "    if 'mask_token' in key:\n",
    "        pass\n",
    "    else:\n",
    "        new_state_dict[key] = value\n",
    "model_timm.load_state_dict(new_state_dict, strict=True)\n",
    "\n",
    "# check if the models are the same\n",
    "model.eval()\n",
    "model_timm.eval()\n",
    "#get state dict of model without the mask_token \n",
    "state_dict = model.state_dict()\n",
    "state_dict_timm = model_timm.state_dict()\n",
    "new_state_dict = {}\n",
    "new_state_dict_timm = {}\n",
    "for name, param in state_dict.items():\n",
    "    #check if is the mask token\n",
    "    if 'mask_token' in name:\n",
    "        continue\n",
    "    new_state_dict[name] = param\n",
    "for name, param in state_dict_timm.items(): \n",
    "    new_state_dict_timm[name] = param\n",
    "    \n",
    "#show both names and sizes for each parameter \n",
    "for (name, param), (name_timm, param_timm) in zip(new_state_dict.items(), new_state_dict_timm.items()):\n",
    "    #print(name, param.size(), name_timm, param_timm.size())\n",
    "    if not torch.equal(param, param_timm):\n",
    "        print(\"Not equal\")\n",
    "        break\n",
    "   \n"
   ]
  },
  {
   "cell_type": "code",
   "execution_count": null,
   "metadata": {},
   "outputs": [],
   "source": [
    "from huggingface_hub import notebook_login\n",
    "notebook_login()"
   ]
  },
  {
   "cell_type": "code",
   "execution_count": null,
   "metadata": {},
   "outputs": [],
   "source": []
  },
  {
   "cell_type": "code",
   "execution_count": null,
   "metadata": {},
   "outputs": [],
   "source": [
    "\n",
    "\n",
    "\n",
    "#default_config = timm.models.vision_transformer.default_cfgs[TIMM_NAME]\n",
    "#change the input size to 224x224\n",
    "#print(default_config)\n",
    "#default_config.cfgs['lvd142m'].input_size=[3,224,224]\n",
    "#default_config= default_config.cfgs['lvd142m']\n",
    "config = {\n",
    "    \"architecture\": \"vit_large_patch14_dinov2\",\n",
    "    \"num_classes\": 0,\n",
    "    \"num_features\": 1024,\n",
    "    \"global_pool\": \"token\",\n",
    "    \"pretrained_cfg\": {\n",
    "        \"tag\": \"lvd142m\",\n",
    "        \"custom_load\": False,\n",
    "        \"input_size\": [3, 224, 224],\n",
    "        \"fixed_input_size\": True,\n",
    "        \"interpolation\": \"bicubic\",\n",
    "        \"crop_pct\": 1.0,\n",
    "        \"crop_mode\": \"center\",\n",
    "        \"mean\": [0.485, 0.456, 0.406],\n",
    "        \"std\": [0.229, 0.224, 0.225],\n",
    "        \"num_classes\": 0,\n",
    "        \"pool_size\": None,\n",
    "        \"first_conv\": \"patch_embed.proj\",\n",
    "        \"classifier\": \"head\",\n",
    "        \"license\": \"cc-by-nc-4.0\"\n",
    "    }\n",
    "}\n",
    "timm.models.push_to_hf_hub(model_timm, 'RedDino-large', model_config=config, commit_message=\"RedDino_config\")"
   ]
  },
  {
   "cell_type": "code",
   "execution_count": null,
   "metadata": {},
   "outputs": [],
   "source": []
  }
 ],
 "metadata": {
  "kernelspec": {
   "display_name": "Python 3",
   "language": "python",
   "name": "python3"
  },
  "language_info": {
   "codemirror_mode": {
    "name": "ipython",
    "version": 3
   },
   "file_extension": ".py",
   "mimetype": "text/x-python",
   "name": "python",
   "nbconvert_exporter": "python",
   "pygments_lexer": "ipython3",
   "version": "3.9.0"
  }
 },
 "nbformat": 4,
 "nbformat_minor": 2
}
